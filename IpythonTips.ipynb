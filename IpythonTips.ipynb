{
 "cells": [
  {
   "cell_type": "markdown",
   "metadata": {},
   "source": [
    "# Running Another Ipython Notebook In The Context of Current Kernel"
   ]
  },
  {
   "cell_type": "code",
   "execution_count": 2,
   "metadata": {
    "collapsed": false
   },
   "outputs": [
    {
     "name": "stdout",
     "output_type": "stream",
     "text": [
      "hi. I am defined in common.ipynb\n",
      "Calling functions from common.ipynb\n"
     ]
    }
   ],
   "source": [
    "%run -i common.ipynb\n",
    "funcA()\n",
    "funcB(\"Calling functions from common.ipynb\")"
   ]
  },
  {
   "cell_type": "markdown",
   "metadata": {},
   "source": [
    "# Progress Bars"
   ]
  },
  {
   "cell_type": "code",
   "execution_count": 5,
   "metadata": {
    "collapsed": false
   },
   "outputs": [],
   "source": [
    "# Initialize Progress Bar\n",
    "from ipywidgets import FloatProgress\n",
    "from IPython.display import display\n",
    "f = FloatProgress(min=0, max=100)\n",
    "display(f)\n",
    "\n",
    "# Increment value of the progress bar within the iterator\n",
    "from time import sleep\n",
    "for i in xrange(100):\n",
    "   sleep(0.1)\n",
    "   f.value = i\n",
    "    \n",
    "    "
   ]
  },
  {
   "cell_type": "code",
   "execution_count": 6,
   "metadata": {
    "collapsed": false
   },
   "outputs": [
    {
     "name": "stderr",
     "output_type": "stream",
     "text": [
      "100%|██████████| 100/100 [00:10<00:00,  9.62it/s]\n"
     ]
    }
   ],
   "source": [
    "# If you don't like adding so much code, you can use tqdm package. \n",
    "from tqdm import trange\n",
    "for i in trange(100):\n",
    "    sleep(0.1)\n",
    "    "
   ]
  },
  {
   "cell_type": "markdown",
   "metadata": {},
   "source": [
    "# Unit Testing"
   ]
  },
  {
   "cell_type": "code",
   "execution_count": 8,
   "metadata": {
    "collapsed": false
   },
   "outputs": [
    {
     "name": "stderr",
     "output_type": "stream",
     "text": [
      "..\n",
      "----------------------------------------------------------------------\n",
      "Ran 2 tests in 0.003s\n",
      "\n",
      "OK\n"
     ]
    },
    {
     "data": {
      "text/plain": [
       "<unittest.runner.TextTestResult run=2 errors=0 failures=0>"
      ]
     },
     "execution_count": 8,
     "metadata": {},
     "output_type": "execute_result"
    }
   ],
   "source": [
    "import unittest\n",
    "\n",
    "class Person(object):\n",
    "    \n",
    "    def __init__(self, name, age):\n",
    "        self.__name = name\n",
    "        self.__age = age\n",
    "    \n",
    "    @property\n",
    "    def name(self):\n",
    "        return self.__name\n",
    "    \n",
    "    @property\n",
    "    def age(self):\n",
    "        return self.__age\n",
    "    \n",
    "    def __str__(self):\n",
    "        return \"{} ({})\".format(self.name, self.age)\n",
    "    \n",
    "    def __eq__(self, other):\n",
    "        return self.name == other.name and self.age == other.age\n",
    "    \n",
    "class PersonTest(unittest.TestCase):\n",
    "    \n",
    "    def test_initialization(self):\n",
    "        p1 = Person(\"xyz\", 10)\n",
    "        self.assertEqual(\"xyz\", p1.name)\n",
    "        self.assertEqual(10, p1.age)\n",
    "    \n",
    "    def test_equality(self):\n",
    "        p1 = Person(\"xyz\", 10)\n",
    "        p2 = Person(\"xyz\", 10)\n",
    "        self.assertEqual(p1, p2)\n",
    "\n",
    "    \n",
    "suite = unittest.TestLoader().loadTestsFromTestCase( PersonTest )\n",
    "unittest.TextTestRunner().run(suite) "
   ]
  },
  {
   "cell_type": "code",
   "execution_count": null,
   "metadata": {
    "collapsed": true
   },
   "outputs": [],
   "source": []
  }
 ],
 "metadata": {
  "kernelspec": {
   "display_name": "Python 2",
   "language": "python",
   "name": "python2"
  },
  "language_info": {
   "codemirror_mode": {
    "name": "ipython",
    "version": 2
   },
   "file_extension": ".py",
   "mimetype": "text/x-python",
   "name": "python",
   "nbconvert_exporter": "python",
   "pygments_lexer": "ipython2",
   "version": "2.7.11"
  },
  "widgets": {
   "state": {
    "26a867b2cece427aac218e644c5015b0": {
     "views": []
    },
    "3043c921ace547bebefeb8771721d466": {
     "views": [
      {
       "cell_index": 3
      }
     ]
    },
    "68714c766b824ea280a81d7147a96cc8": {
     "views": []
    },
    "9c3d61a365d749f8aed9e8c523b9f600": {
     "views": []
    }
   },
   "version": "1.1.1"
  }
 },
 "nbformat": 4,
 "nbformat_minor": 0
}
