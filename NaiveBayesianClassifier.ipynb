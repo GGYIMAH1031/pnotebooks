{
 "cells": [
  {
   "cell_type": "code",
   "execution_count": 110,
   "metadata": {
    "collapsed": false
   },
   "outputs": [],
   "source": [
    "import math\n",
    "import unittest\n",
    "import warnings\n",
    "import abc          \n",
    "import numpy as np\n",
    "import sys\n",
    "\n",
    "\n",
    "class Distribution(object):\n",
    "    \n",
    "    __metaclass__ = abc.ABCMeta\n",
    "    \n",
    "    def __init__(self):\n",
    "        object.__init__(self)\n",
    "        \n",
    "    @abc.abstractmethod\n",
    "    def pdf(self, value):\n",
    "        return\n",
    "    \n",
    "    \n",
    "\n",
    "class Gaussian(Distribution):\n",
    "    \n",
    "    def __init__(self, means, covariance):\n",
    "        Distribution.__init__(self)\n",
    "        self._mean = means\n",
    "        self._variance = covariance\n",
    "        \n",
    "    @property\n",
    "    def mean(self):\n",
    "        return self._mean\n",
    "    \n",
    "    @property\n",
    "    def variance(self):\n",
    "        return self._variance\n",
    "    \n",
    "    \n",
    "    def pdf(self, value):\n",
    "        \n",
    "        var = self.variance\n",
    "        (numberOfFeatures, cols) = var.shape\n",
    "        \n",
    "        minVal = sys.float_info[3]\n",
    "        for row in xrange(numberOfFeatures):\n",
    "            for col in range(row, numberOfFeatures):\n",
    "                if var[row, col] <= minVal:\n",
    "                    var[row, col] = minVal\n",
    "                    var[col, row] = minVal\n",
    "        \n",
    "        det = np.linalg.det(var)\n",
    "        assert det > 0, \"Covariance matrix is not positive definite : {0}, {1}, {2}\".format(var, self.mean, value)\n",
    "        \n",
    "        xm = value - self.mean # 1 X F\n",
    "        xmt = xm.transpose() # F X 1\n",
    "        sinv = np.linalg.inv(var) # F X F\n",
    "        z2 = xm*sinv*xmt # (1 X F) * (F X F) * (F X 1) = 1 X 1\n",
    "        return 1.0/(np.sqrt(det) * math.pow(2*math.pi, numberOfFeatures/2.0)) * math.exp(-0.5 * z2)\n",
    "    \n",
    "    def __str__(self):\n",
    "        return \"\"\"\n",
    "Mean: \\n{0}\n",
    "Variance: \\n{1}\n",
    "        \"\"\".format(pd.DataFrame(self._mean), pd.DataFrame(self._variance))\n",
    "    \n",
    "    def __ref__(self):\n",
    "        return self.__str__()\n",
    "    \n",
    "        \n",
    "class MixtureModel(Distribution):\n",
    "    \n",
    "    def __init__(self, distributions, mixin):\n",
    "        Distribution.__init__(self)\n",
    "        self._distributions = distributions\n",
    "        self._mixin = mixin\n",
    "    \n",
    "    def pdf(self, point):\n",
    "        return sum(self.pdfComponents(point))\n",
    "    \n",
    "    def pdfComponents(self, point):\n",
    "        components = []\n",
    "        for distribution, mixin in zip(self._distributions, self._mixin):\n",
    "            components.append(distribution.pdf(point) * mixin)\n",
    "        return components\n",
    "    \n",
    "    @property\n",
    "    def distributions(self):\n",
    "        return self._distributions\n",
    "    \n",
    "    @property\n",
    "    def mixingCoefficients(self):\n",
    "        return self._mixin\n",
    "    \n",
    "\n",
    "    def __str__(self):\n",
    "        str = \"Mixing Coefficients: {0}\".format(self.mixingCoefficients)\n",
    "        for idx, distribution in enumerate(self.distributions):\n",
    "            str += \"\"\"\n",
    "Distribution {0}:\n",
    "--------------------\n",
    "{1}\n",
    "            \"\"\".format(idx, distribution)\n",
    "        \n",
    "        return str\n",
    "    \n",
    "    def __ref__(self):\n",
    "        return self.__str__()\n",
    "    \n",
    "    \n"
   ]
  },
  {
   "cell_type": "code",
   "execution_count": 111,
   "metadata": {
    "collapsed": false
   },
   "outputs": [],
   "source": [
    "import random \n",
    "import pandas as pd\n",
    "import numpy as np\n",
    "\n",
    "from ipywidgets import FloatProgress\n",
    "from IPython.display import display\n",
    "from collections import defaultdict\n",
    "\n",
    "class Estimator(object):\n",
    "    \n",
    "    __metaclass__ = abc.ABCMeta\n",
    "    \n",
    "    def __init__(self):\n",
    "        object.__init__(self)\n",
    "        self._cnt = 0.0\n",
    "        \n",
    "    @abc.abstractmethod\n",
    "    def add(self, value, weight=1.0):\n",
    "        return\n",
    "    \n",
    "    @abc.abstractmethod\n",
    "    def distribution(self):\n",
    "        return\n",
    "    \n",
    "    @property\n",
    "    def count(self):\n",
    "        return self._cnt    \n",
    "    \n",
    "\n",
    "    \n",
    "class GaussianEstimator(Estimator):\n",
    "\n",
    "    def __init__(self):        \n",
    "        Estimator.__init__(self)\n",
    "        \n",
    "        self.__totalWeight = 0.0\n",
    "        self.__moment = 0.0\n",
    "        self.__mean = None\n",
    "        self.__variance = None\n",
    "        \n",
    "        \n",
    "    \n",
    "    def add(self, value, weight=1.0):\n",
    "        \n",
    "        if self.count == 0:\n",
    "            self.__totalWeight = weight\n",
    "            self.__mean = np.matrix.copy(value)\n",
    "            self.__moment = np.matrix(np.zeros((self.__mean.shape[1],self.__mean.shape[1])))\n",
    "        else:\n",
    "            delta = value - self.__mean # (1 X F)\n",
    "            temp = self.__totalWeight + weight # Scalar\n",
    "            R = delta * weight / temp # (1 X F)\n",
    "            self.__mean += R # (1 X F)\n",
    "            self.__moment += R.transpose() * self.__totalWeight * delta # ()\n",
    "            self.__totalWeight = temp\n",
    "        \n",
    "        self._cnt += 1\n",
    "        \n",
    "        if(self.count > 1):\n",
    "            self.__variance = self.__moment / self.__totalWeight * self.count/(self.count - 1.0)\n",
    "\n",
    "    @property\n",
    "    def distribution(self):\n",
    "        return Gaussian(self.__mean, self.__variance)\n",
    "    \n",
    "\n",
    "class MultivariateIndependentGaussianEstimator(Estimator):\n",
    "    \n",
    "    def __init__(self):        \n",
    "        Estimator.__init__(self)\n",
    "        self.__featureEstimators = None\n",
    "    \n",
    "    @property\n",
    "    def distribution(self):\n",
    "        numOfFeatures = len(self.__featureEstimators)\n",
    "        means = np.zeros((1, numOfFeatures))\n",
    "        variance = np.zeros((numOfFeatures, numOfFeatures))\n",
    "        for idx, estimator in enumerate(self.__featureEstimators):\n",
    "            means[0, idx] = estimator.distribution.mean[0,0]\n",
    "            variance[idx, idx] = estimator.distribution.variance[0, 0]\n",
    "        return Gaussian(np.matrix(means), np.matrix(variance))\n",
    "    \n",
    "    def add(self, value, weight=1.0):\n",
    "        if self.__featureEstimators == None:\n",
    "            self.__featureEstimators = [GaussianEstimator() for idx in xrange(value.shape[1])]\n",
    "        else:\n",
    "            for idx, v in np.ndenumerate(value):\n",
    "                self.__featureEstimators[idx[1]].add(np.matrix(v), weight)\n",
    "        self._cnt += 1\n",
    "        \n",
    "        \n",
    "\n",
    "class GaussianMixtureModelEstimator(Estimator):\n",
    "    \n",
    "    def __init__(self):  \n",
    "        Estimator.__init__(self)\n",
    "        self._data = None\n",
    "        self._weights = []\n",
    "\n",
    "    def addAll(self, values, weights):\n",
    "        self._data = values\n",
    "        self.__weights = weights        \n",
    "        \n",
    "    def add(self, value, weight=1.0):\n",
    "        if self._data == None:\n",
    "            self._data = value\n",
    "        else:\n",
    "            self._data = np.append(self._data, value, axis=0)\n",
    "        self._weights.append(weight)        \n",
    "    \n",
    "    def distribution(self, numOfModels, maxIter = 100, epsilon=0.001):\n",
    "        \n",
    "        K = numOfModels\n",
    "        (N, F) = self._data.shape\n",
    "        log_estimates = 0\n",
    "\n",
    "        # Compute Min/Max for each feature (Need for randomDraw)\n",
    "        min_max = []\n",
    "        for f in xrange(F):\n",
    "            min_max.append((self._data[:,f].min(), self._data[:,f].max()))\n",
    "                \n",
    "        def randomDraw():\n",
    "            models = []\n",
    "            mixin = []\n",
    "    \n",
    "            for i in xrange(K):\n",
    "                tmpmu = np.array([random.uniform(min_max[f][0], min_max[f][1]) for f in xrange(F)], np.float64)\n",
    "                sigma = np.matrix(np.diag([(min_max[f][1]-min_max[f][0])/2.0 for f in xrange(F)]))\n",
    "        \n",
    "                models.append(Gaussian(tmpmu, sigma))\n",
    "                mixin.append(1.0/numOfModels)\n",
    "\n",
    "            return MixtureModel(models, mixin)\n",
    "        \n",
    "        \n",
    "        iter = 0    \n",
    "        log_estimates = []\n",
    "        mixtureModel = randomDraw()\n",
    "        print \"Random Initialization\"\n",
    "        print mixtureModel\n",
    "        totalRestart = defaultdict(int)\n",
    "        \n",
    "        while (len(log_estimates) < 2 or abs(log_estimates[-1] - log_estimates[-2]) > epsilon) and iter < maxIter:\n",
    "            iter += 1\n",
    "\n",
    "            # Step 2: Compute Responsibility\n",
    "            gamma = np.matrix(np.zeros((N,K)))\n",
    "            for n, x in enumerate(self._data):\n",
    "                components = np.array(mixtureModel.pdfComponents(x))\n",
    "                total = components.sum()\n",
    "                gamma[n,:] = components/total\n",
    "            \n",
    "            \n",
    "            # Step 3: Compute Maximization\n",
    "            clusterWeight = gamma.sum(0) # column wise sum -- N_k\n",
    "            pi = []\n",
    "            distributions = []\n",
    "            \n",
    "            for k in xrange(K):\n",
    "                Nk = clusterWeight[0, k]\n",
    "                assert Nk/N > 1.0/N, \"all points converged to a single cluster\"\n",
    "                pi.append(Nk/N)\n",
    "\n",
    "                estimator = GaussianEstimator()\n",
    "                for n, x in enumerate(self._data):\n",
    "                    estimator.add(x, weight = gamma[n,k])\n",
    "\n",
    "                distributions.append(estimator.distribution)\n",
    "                \n",
    "            mixtureModel = MixtureModel(distributions, pi)\n",
    "            \n",
    "            # Step 4: Compute Estimate\n",
    "            log_estimates.append(0.0) \n",
    "            for x in self._data:\n",
    "                log_estimates[-1] += mixtureModel.pdf(x)\n",
    "\n",
    "            # Step 5: Sanity Check\n",
    "            restart = False\n",
    "            for k in range(1,K):\n",
    "                if np.allclose(distributions[k].mean, distributions[k-1].mean) == True:\n",
    "                    restart = True\n",
    "                    totalRestart['CloseMeans'] += 1\n",
    "                    break\n",
    "\n",
    "                if np.allclose(distributions[k].variance, distributions[k-1].variance) == True: \n",
    "                    restart = True\n",
    "                    totalRestart['CloseVariance'] += 1\n",
    "                    break\n",
    "\n",
    "                if np.linalg.det(distributions[k].variance) <= 0:\n",
    "                    restart = True\n",
    "                    totalRestart['NonPositiveVariance'] += 1\n",
    "                    break\n",
    "\n",
    "\n",
    "            if restart == True:    \n",
    "                print \"RESTARTING {0}==== {1}\".format(iter, totalRestart)\n",
    "                distributions, pi = randomDraw(data, K)\n",
    "                continue\n",
    "\n",
    "\n",
    "        self.__distributions = MixtureModel(distributions, pi)   \n",
    "        return self.__distributions\n",
    "    \n",
    "        \n",
    "# estimator = GaussianMixtureModelEstimator()  \n",
    "# np.random.seed(1L)\n",
    "\n",
    "# # Distribution 1\n",
    "# for row in np.matrix(np.random.multivariate_normal([60, 140], [[9, 17], [17, 100]], 100)):\n",
    "#     estimator.add(row)\n",
    "\n",
    "# # Distribution 2\n",
    "# for row in np.matrix(np.random.multivariate_normal([70, 170], [[9, 17], [17, 83]], 100)):\n",
    "#     estimator.add(row)\n",
    "\n",
    "# print estimator.distribution(3, epsilon=0.00001)\n"
   ]
  },
  {
   "cell_type": "markdown",
   "metadata": {},
   "source": [
    "## Section 3: Naive Bayesian Classifier"
   ]
  },
  {
   "cell_type": "code",
   "execution_count": 112,
   "metadata": {
    "collapsed": true
   },
   "outputs": [],
   "source": [
    "class SupervisedClassifier(object):\n",
    "    __metaclass__ = abc.ABCMeta\n",
    "    \n",
    "    def __init__(self):\n",
    "        return\n",
    "\n",
    "    @abc.abstractmethod\n",
    "    def add(self, label, features, weight = 1.0):\n",
    "        return\n",
    "    \n",
    "    @abc.abstractmethod\n",
    "    def predict(self, value):\n",
    "        return\n",
    "    \n",
    "    "
   ]
  },
  {
   "cell_type": "code",
   "execution_count": 113,
   "metadata": {
    "collapsed": false
   },
   "outputs": [],
   "source": [
    "class NaiveBayesianClassifier(SupervisedClassifier):\n",
    "\n",
    "    def __init__(self):\n",
    "        super(NaiveBayesianClassifier, self).__init__()\n",
    "        self.__categories = defaultdict(MultivariateIndependentGaussianEstimator)\n",
    "        self.__priors = defaultdict(float)\n",
    "        self.__count = 0\n",
    "    \n",
    "    def add(self, label, features, weight = 1.0):\n",
    "        if label == None or len(unicode(label)) == 0:\n",
    "            raise ValueError(\"Category label cannot be empty\")\n",
    "\n",
    "        self.__categories[label].add(features, weight)\n",
    "        self.__priors[label] += 1.0\n",
    "        self.__count += 1\n",
    "    \n",
    "    def predict(self, value):\n",
    "        posterior = [(label, self.__priors[label]/self.count * estimator.distribution.pdf(value)) for label, estimator in self.__categories.items()]\n",
    "        return sorted(posterior, key=lambda x:x[1], reverse=True)\n",
    "    \n",
    "    @property\n",
    "    def priors(self):\n",
    "        return dict([(label, value/self.count) for label, value in self.__priors.items()])\n",
    "    \n",
    "    @property\n",
    "    def labels(self):\n",
    "        return self.__categories.keys()\n",
    "    \n",
    "    @property\n",
    "    def count(self):\n",
    "        return self.__count\n",
    "    \n",
    "    def distribution(self, label):\n",
    "        estimator = self.__categories[label]\n",
    "        mixtureModel = estimator.distribution\n",
    "        return mixtureModel.distributions\n",
    "\n",
    "        "
   ]
  },
  {
   "cell_type": "code",
   "execution_count": 114,
   "metadata": {
    "collapsed": true
   },
   "outputs": [],
   "source": [
    "# Utility Functions for Classification\n",
    "\n",
    "def computeConfusionMatrix(actual, predicted):\n",
    "    df = pd.DataFrame(zip(actual, predicted), columns=[\"Actual\", \"Predicted\"])\n",
    "    cnts = df.groupby([\"Actual\",\"Predicted\"]).size()\n",
    "    print cnts.reset_index()\n",
    "    print \"Accurarcy: \", (cnts[0, 0] + cnts[1, 1]) / float(len(actual))\n",
    "    "
   ]
  },
  {
   "cell_type": "markdown",
   "metadata": {},
   "source": [
    "## Create Dataset"
   ]
  },
  {
   "cell_type": "code",
   "execution_count": 115,
   "metadata": {
    "collapsed": false
   },
   "outputs": [
    {
     "name": "stdout",
     "output_type": "stream",
     "text": [
      "Number of Training Samples:  614\n",
      "Number of Test Samples:  154\n"
     ]
    }
   ],
   "source": [
    "%matplotlib inline\n",
    "\n",
    "import requests\n",
    "from collections import defaultdict \n",
    "import random\n",
    "import pandas as pd\n",
    "import ggplot\n",
    "from ggplot import *\n",
    "from sklearn.cross_validation import train_test_split\n",
    "\n",
    "data = []\n",
    "labels = []\n",
    "\n",
    "# Iterate over complete dataset and randomly store 20% of observations for testing purpose\n",
    "r = requests.get(\"https://archive.ics.uci.edu/ml/machine-learning-databases/pima-indians-diabetes/pima-indians-diabetes.data\")\n",
    "for line in r.content.split(\"\\n\"):\n",
    "    # skip empty line\n",
    "    line = line.strip()\n",
    "    if len(line) == 0:\n",
    "        continue\n",
    "    features, label = line.rsplit(',', 1)\n",
    "    labels.append(int(label))\n",
    "    data.append([float(x.strip()) for x in features.split(\",\")])\n",
    "\n",
    "DATA_COLUMNS = [\"timesPregnant\",\"glucose\",\"BP\",\"foldThickness\",\"insulin\",\"BMI\",\"pedigree\",\"age\"]\n",
    "trainData, testData, trainLabels, testLabels = train_test_split(data, labels, test_size=0.2, random_state=20)\n",
    "\n",
    "assert len(trainData) == len(trainLabels)\n",
    "assert len(testData) == len(testLabels)\n",
    "print \"Number of Training Samples: \", len(trainData)\n",
    "print \"Number of Test Samples: \", len(testData)\n",
    "\n",
    "\n"
   ]
  },
  {
   "cell_type": "markdown",
   "metadata": {},
   "source": [
    "# Naive Bayes Classifier"
   ]
  },
  {
   "cell_type": "code",
   "execution_count": 116,
   "metadata": {
    "collapsed": false
   },
   "outputs": [
    {
     "name": "stdout",
     "output_type": "stream",
     "text": [
      "{0: 0.6498371335504886, 1: 0.3501628664495114}\n"
     ]
    }
   ],
   "source": [
    "# Train Model\n",
    "nbc = defaultdict(MultivariateIndependentGaussianEstimator)\n",
    "priors = defaultdict(float)\n",
    "numRows = len(trainData)\n",
    "trainMatrix = np.matrix(trainData)\n",
    "for idx in xrange(numRows):\n",
    "    label = trainLabels[idx]\n",
    "    nbc[label].add(trainMatrix[idx,:], 1.0)\n",
    "    priors[label] += 1.0\n",
    "priors = dict([(label, value/numRows) for label, value in priors.items()])\n",
    "print priors"
   ]
  },
  {
   "cell_type": "code",
   "execution_count": 117,
   "metadata": {
    "collapsed": false
   },
   "outputs": [
    {
     "name": "stdout",
     "output_type": "stream",
     "text": [
      "=== Data SUMMARY ====\n",
      "Number of Training Samples = 614\n",
      "=== FEATURE SUMMARY ===\n"
     ]
    },
    {
     "data": {
      "text/html": [
       "<div>\n",
       "<table border=\"1\" class=\"dataframe\">\n",
       "  <thead>\n",
       "    <tr>\n",
       "      <th></th>\n",
       "      <th colspan=\"2\" halign=\"left\">Mean</th>\n",
       "      <th colspan=\"2\" halign=\"left\">Variance</th>\n",
       "    </tr>\n",
       "    <tr>\n",
       "      <th>Class</th>\n",
       "      <th>0</th>\n",
       "      <th>1</th>\n",
       "      <th>0</th>\n",
       "      <th>1</th>\n",
       "    </tr>\n",
       "    <tr>\n",
       "      <th>FeatureName</th>\n",
       "      <th></th>\n",
       "      <th></th>\n",
       "      <th></th>\n",
       "      <th></th>\n",
       "    </tr>\n",
       "  </thead>\n",
       "  <tbody>\n",
       "    <tr>\n",
       "      <th>BMI</th>\n",
       "      <td>30.183668</td>\n",
       "      <td>35.280841</td>\n",
       "      <td>58.676282</td>\n",
       "      <td>46.999115</td>\n",
       "    </tr>\n",
       "    <tr>\n",
       "      <th>BP</th>\n",
       "      <td>68.557789</td>\n",
       "      <td>69.841121</td>\n",
       "      <td>278.433680</td>\n",
       "      <td>480.519240</td>\n",
       "    </tr>\n",
       "    <tr>\n",
       "      <th>age</th>\n",
       "      <td>30.974874</td>\n",
       "      <td>36.836449</td>\n",
       "      <td>133.465362</td>\n",
       "      <td>120.221952</td>\n",
       "    </tr>\n",
       "    <tr>\n",
       "      <th>foldThickness</th>\n",
       "      <td>19.846734</td>\n",
       "      <td>22.126168</td>\n",
       "      <td>210.024309</td>\n",
       "      <td>314.458185</td>\n",
       "    </tr>\n",
       "    <tr>\n",
       "      <th>glucose</th>\n",
       "      <td>109.854271</td>\n",
       "      <td>140.630841</td>\n",
       "      <td>635.202891</td>\n",
       "      <td>1061.567307</td>\n",
       "    </tr>\n",
       "    <tr>\n",
       "      <th>insulin</th>\n",
       "      <td>69.379397</td>\n",
       "      <td>100.191589</td>\n",
       "      <td>10147.011867</td>\n",
       "      <td>17643.113356</td>\n",
       "    </tr>\n",
       "    <tr>\n",
       "      <th>pedigree</th>\n",
       "      <td>0.430623</td>\n",
       "      <td>0.563341</td>\n",
       "      <td>0.093750</td>\n",
       "      <td>0.136778</td>\n",
       "    </tr>\n",
       "    <tr>\n",
       "      <th>timesPregnant</th>\n",
       "      <td>3.253769</td>\n",
       "      <td>4.920561</td>\n",
       "      <td>8.547530</td>\n",
       "      <td>14.646242</td>\n",
       "    </tr>\n",
       "  </tbody>\n",
       "</table>\n",
       "</div>"
      ],
      "text/plain": [
       "                     Mean                  Variance              \n",
       "Class                   0           1             0             1\n",
       "FeatureName                                                      \n",
       "BMI             30.183668   35.280841     58.676282     46.999115\n",
       "BP              68.557789   69.841121    278.433680    480.519240\n",
       "age             30.974874   36.836449    133.465362    120.221952\n",
       "foldThickness   19.846734   22.126168    210.024309    314.458185\n",
       "glucose        109.854271  140.630841    635.202891   1061.567307\n",
       "insulin         69.379397  100.191589  10147.011867  17643.113356\n",
       "pedigree         0.430623    0.563341      0.093750      0.136778\n",
       "timesPregnant    3.253769    4.920561      8.547530     14.646242"
      ]
     },
     "execution_count": 117,
     "metadata": {},
     "output_type": "execute_result"
    }
   ],
   "source": [
    "# Print Parameters as well as plot \n",
    "# Print Data Summary\n",
    "print \"=== Data SUMMARY ====\"\n",
    "print \"Number of Training Samples = {0}\".format(len(trainData))\n",
    "print \"=== FEATURE SUMMARY ===\"\n",
    "d = []\n",
    "    \n",
    "for category, estimator in nbc.items():\n",
    "    distribution = estimator.distribution\n",
    "    means = distribution.mean\n",
    "    variance = distribution.variance\n",
    "    for idx in xrange(means.shape[1]):\n",
    "        d.append([category, DATA_COLUMNS[idx], means[0,idx], variance[idx,idx]])\n",
    "\n",
    "df = pd.DataFrame(d, columns=[\"Class\",\"FeatureName\", \"Mean\", \"Variance\"])\n",
    "df.pivot(\"FeatureName\",\"Class\")"
   ]
  },
  {
   "cell_type": "code",
   "execution_count": 118,
   "metadata": {
    "collapsed": false
   },
   "outputs": [
    {
     "data": {
      "image/png": "[encoded data removed]",
      "text/plain": [
       "<matplotlib.figure.Figure at 0x110bc07d0>"
      ]
     },
     "metadata": {},
     "output_type": "display_data"
    },
    {
     "data": {
      "text/plain": [
       "<ggplot: (288603653)>"
      ]
     },
     "execution_count": 118,
     "metadata": {},
     "output_type": "execute_result"
    }
   ],
   "source": [
    "# Plot Distribution of Features\n",
    "freqColumns = [\"feature\", \"category\", \"key\",\"count\"]\n",
    "dfFreq = pd.DataFrame([], columns=freqColumns)\n",
    "\n",
    "pdTrain = pd.DataFrame(trainData, columns=DATA_COLUMNS)\n",
    "pdTrain['category'] = pd.Series(trainLabels, index=pdTrain.index)\n",
    "\n",
    "for c, col in enumerate(DATA_COLUMNS):\n",
    "    freq = [[col, k[0], k[1], v] for k,v in pdTrain.groupby(\"category\")[col].value_counts().iteritems()]\n",
    "    dfColFreq = pd.DataFrame(freq, columns=freqColumns)\n",
    "    dfFreq = dfFreq.append(dfColFreq)   \n",
    "\n",
    "p = ggplot(aes(x=\"key\",y=\"count\", group=\"category\",colour=\"category\"), data=dfFreq) + geom_line()\n",
    "p + facet_wrap(\"feature\")\n"
   ]
  },
  {
   "cell_type": "code",
   "execution_count": 150,
   "metadata": {
    "collapsed": false
   },
   "outputs": [
    {
     "name": "stdout",
     "output_type": "stream",
     "text": [
      "   Actual  Predicted   0\n",
      "0       0          0  59\n",
      "1       0          1  42\n",
      "2       1          0  41\n",
      "3       1          1  12\n",
      "Accurarcy:  0.461038961039\n"
     ]
    },
    {
     "data": {
      "text/plain": [
       "1"
      ]
     },
     "execution_count": 150,
     "metadata": {},
     "output_type": "execute_result"
    }
   ],
   "source": [
    "# Validate Model\n",
    "testMatrix = np.matrix(testData)\n",
    "predictions = []\n",
    "scores = []\n",
    "for idx in xrange(testMatrix.shape[0]):\n",
    "    bestEstimate = {'score':0.0, 'category':None}\n",
    "    tmp = []\n",
    "    for label, estimator in nbc.items():\n",
    "        estimate = priors[label] * estimator.distribution.pdf(trainMatrix[idx,:])        \n",
    "        tmp.append((label, estimate))\n",
    "        if estimate >= bestEstimate['score']:\n",
    "            bestEstimate = {'score': estimate, 'category': label}    \n",
    "    scores.append(tmp)\n",
    "    predictions.append(bestEstimate['category'])\n",
    "\n",
    "computeConfusionMatrix(testLabels, predictions)"
   ]
  },
  {
   "cell_type": "code",
   "execution_count": 120,
   "metadata": {
    "collapsed": false
   },
   "outputs": [
    {
     "name": "stdout",
     "output_type": "stream",
     "text": [
      "GaussianNB()\n"
     ]
    }
   ],
   "source": [
    "# Using SciKit library for naive bayes \n",
    "from sklearn import datasets\n",
    "iris = datasets.load_iris()\n",
    "from sklearn.naive_bayes import GaussianNB\n",
    "gnb = GaussianNB()\n",
    "model = gnb.fit(trainData, trainLabels)\n",
    "print model\n"
   ]
  },
  {
   "cell_type": "code",
   "execution_count": 122,
   "metadata": {
    "collapsed": false
   },
   "outputs": [
    {
     "name": "stdout",
     "output_type": "stream",
     "text": [
      "   Actual  Predicted   0\n",
      "0       0          0  82\n",
      "1       0          1  19\n",
      "2       1          0  25\n",
      "3       1          1  28\n",
      "Accurarcy:  0.714285714286\n"
     ]
    }
   ],
   "source": [
    "y_pred = model.predict(testData)\n",
    "computeConfusionMatrix(testLabels, y_pred)"
   ]
  },
  {
   "cell_type": "code",
   "execution_count": 157,
   "metadata": {
    "collapsed": false
   },
   "outputs": [
    {
     "name": "stdout",
     "output_type": "stream",
     "text": [
      "Expected \n",
      "[[ 0.74133604  0.25866396]]\n",
      "[0]\n",
      "Actual\n",
      "[(0, 6.186754239637929e-16), (1, 9.8932020367344002e-15)]\n",
      "1\n",
      "Recomputed: \n",
      "0 3.24522831132e-14\n",
      "1 1.12416799178e-14\n",
      "[ 0.74271778  0.25728222]\n"
     ]
    },
    {
     "name": "stderr",
     "output_type": "stream",
     "text": [
      "/usr/local/lib/python2.7/site-packages/sklearn/utils/validation.py:386: DeprecationWarning: Passing 1d arrays as data is deprecated in 0.17 and willraise ValueError in 0.19. Reshape your data either using X.reshape(-1, 1) if your data has a single feature or X.reshape(1, -1) if it contains a single sample.\n",
      "  DeprecationWarning)\n",
      "/usr/local/lib/python2.7/site-packages/sklearn/utils/validation.py:386: DeprecationWarning: Passing 1d arrays as data is deprecated in 0.17 and willraise ValueError in 0.19. Reshape your data either using X.reshape(-1, 1) if your data has a single feature or X.reshape(1, -1) if it contains a single sample.\n",
      "  DeprecationWarning)\n"
     ]
    }
   ],
   "source": [
    "idx = 3\n",
    "\n",
    "print \"Expected \"\n",
    "print model.predict_proba(testData[idx])\n",
    "print model.predict(testData[3])\n",
    "\n",
    "\n",
    "print \"Actual\"\n",
    "print scores[idx]\n",
    "print predictions[idx]\n",
    "\n",
    "\n",
    "print \"Recomputed: \"\n",
    "values = []\n",
    "for label, estimator in nbc.items():\n",
    "    value = priors[label] * estimator.distribution.pdf(testMatrix[idx,:])\n",
    "    print label, value\n",
    "    values.append(value)\n",
    "print np.array(values)/sum(values)"
   ]
  },
  {
   "cell_type": "markdown",
   "metadata": {},
   "source": [
    "# Classification Using MultiAttribute Gaussian Distribution"
   ]
  },
  {
   "cell_type": "code",
   "execution_count": 100,
   "metadata": {
    "collapsed": false
   },
   "outputs": [
    {
     "name": "stdout",
     "output_type": "stream",
     "text": [
      "Priors:  {0: 0.6498371335504886, 1: 0.3501628664495114}\n",
      "========== 0 =========\n",
      "Mean:           0           1          2          3          4          5         6  \\\n",
      "0  3.24812  109.829574  68.566416  19.827068  69.380952  30.171429  0.431193   \n",
      "\n",
      "           7  \n",
      "0  30.967419  \n",
      "Variance: \n",
      "           0           1           2           3             4           5  \\\n",
      "0   8.538784    7.449428    8.155590   -3.125326    -26.554559    0.072434   \n",
      "1   7.449428  633.850279  104.124413   19.269449    974.311318   30.909691   \n",
      "2   8.155590  104.124413  277.763794   43.643424    115.864082   48.442857   \n",
      "3  -3.125326   19.269449   43.643424  209.650924    605.312276   46.886253   \n",
      "4 -26.554559  974.311318  115.864082  605.312276  10121.517827  214.437042   \n",
      "5   0.072434   30.909691   48.442857   46.886253    214.437042   58.588629   \n",
      "6  -0.044819    0.727608    0.180845    0.388719      7.861929    0.156197   \n",
      "7  19.493029   66.532122   51.043627  -23.244342   -120.693587    4.094293   \n",
      "\n",
      "          6           7  \n",
      "0 -0.044819   19.493029  \n",
      "1  0.727608   66.532122  \n",
      "2  0.180845   51.043627  \n",
      "3  0.388719  -23.244342  \n",
      "4  7.861929 -120.693587  \n",
      "5  0.156197    4.094293  \n",
      "6  0.093644    0.171775  \n",
      "7  0.171775  133.152202  \n",
      "========== 1 =========\n",
      "Mean:            0           1          2          3          4          5         6  \\\n",
      "0  4.948837  140.493023  69.906977  22.209302  99.725581  35.334419  0.565023   \n",
      "\n",
      "           7  \n",
      "0  36.874419  \n",
      "Variance: \n",
      "           0            1           2            3             4          5  \\\n",
      "0  14.749707    -6.362508   10.766246    -4.905129    -36.299152  -4.090287   \n",
      "1  -6.362508  1060.690372   41.387198     0.499131    936.159291   9.695101   \n",
      "2  10.766246    41.387198  479.206260    83.524234    285.703325  25.670506   \n",
      "3  -4.905129     0.499131   83.524234   314.474679   1140.506303  37.104912   \n",
      "4 -36.299152   936.159291  285.703325  1140.506303  17607.358922  95.250611   \n",
      "5  -4.090287     9.695101   25.670506    37.104912     95.250611  47.396660   \n",
      "6  -0.024452     0.251512    0.598091     1.708098      8.733558   0.188247   \n",
      "7  19.484199    17.141643   58.871441   -21.188546    -93.604716 -10.310611   \n",
      "\n",
      "          6           7  \n",
      "0 -0.024452   19.484199  \n",
      "1  0.251512   17.141643  \n",
      "2  0.598091   58.871441  \n",
      "3  1.708098  -21.188546  \n",
      "4  8.733558  -93.604716  \n",
      "5  0.188247  -10.310611  \n",
      "6  0.136748   -0.102217  \n",
      "7 -0.102217  119.970137  \n"
     ]
    }
   ],
   "source": [
    "# Train Model\n",
    "model = defaultdict(GaussianEstimator)\n",
    "priors = defaultdict(float)\n",
    "numRows = len(trainData)\n",
    "trainMatrix = np.matrix(trainData)\n",
    "for idx in xrange(numRows):\n",
    "    label = trainLabels[idx]\n",
    "    model[label].add(trainMatrix[idx,:], 1.0)\n",
    "    priors[label] += 1.0\n",
    "    \n",
    "priors = dict([(label, value/numRows) for label, value in priors.items()])\n",
    "print \"Priors: \", priors\n",
    "    \n",
    "for label, estimator in model.items():\n",
    "    print \"========== {0} =========\".format(label)\n",
    "    distribution = estimator.distribution    \n",
    "    print \"Mean: \", \n",
    "    print pd.DataFrame(distribution.mean)\n",
    "    print \"Variance: \"\n",
    "    print pd.DataFrame(distribution.variance)\n",
    "    \n"
   ]
  },
  {
   "cell_type": "code",
   "execution_count": 103,
   "metadata": {
    "collapsed": false
   },
   "outputs": [
    {
     "name": "stdout",
     "output_type": "stream",
     "text": [
      "   Actual  Predicted   0\n",
      "0       0          0  68\n",
      "1       0          1  33\n",
      "2       1          0  41\n",
      "3       1          1  12\n",
      "Accurarcy:  0.519480519481\n"
     ]
    }
   ],
   "source": [
    "# Validate Model\n",
    "testMatrix = np.matrix(testData)\n",
    "predictions = []\n",
    "\n",
    "for idx in xrange(testMatrix.shape[0]):\n",
    "    bestEstimate = {'score':0.0, 'category':None}\n",
    "    for label, estimator in model.items():\n",
    "        estimate = priors[label] * estimator.distribution.pdf(trainMatrix[idx,:])\n",
    "        if estimate > bestEstimate['score']:\n",
    "            bestEstimate = {'score': estimate, 'category': label}    \n",
    "    predictions.append(bestEstimate['category'])\n",
    "\n",
    "computeConfusionMatrix(testLabels, predictions)\n",
    "    "
   ]
  },
  {
   "cell_type": "markdown",
   "metadata": {},
   "source": [
    "## Using Expectation Maximization"
   ]
  },
  {
   "cell_type": "code",
   "execution_count": 109,
   "metadata": {
    "collapsed": false
   },
   "outputs": [
    {
     "name": "stderr",
     "output_type": "stream",
     "text": [
      "/usr/local/lib/python2.7/site-packages/ipykernel/__main__.py:105: FutureWarning: comparison to `None` will result in an elementwise object comparison in the future.\n"
     ]
    },
    {
     "name": "stdout",
     "output_type": "stream",
     "text": [
      "Priors:  {0: 0.6498371335504886, 1: 0.3501628664495114}\n",
      "========== 0 =========\n",
      "Random Initialization\n",
      "Mixing Coefficients: [0.5, 0.5]\n",
      "Distribution 0:\n",
      "--------------------\n",
      "\n",
      "Mean: \n",
      "            0\n",
      "0    4.168209\n",
      "1   16.256653\n",
      "2   19.777708\n",
      "3   32.651099\n",
      "4  403.085429\n",
      "5   28.319398\n",
      "6    1.117168\n",
      "7   32.760552\n",
      "Variance: \n",
      "     0     1     2     3      4      5       6     7\n",
      "0  6.5   0.0   0.0   0.0    0.0   0.00  0.0000   0.0\n",
      "1  0.0  98.5   0.0   0.0    0.0   0.00  0.0000   0.0\n",
      "2  0.0   0.0  55.0   0.0    0.0   0.00  0.0000   0.0\n",
      "3  0.0   0.0   0.0  27.0    0.0   0.00  0.0000   0.0\n",
      "4  0.0   0.0   0.0   0.0  372.0   0.00  0.0000   0.0\n",
      "5  0.0   0.0   0.0   0.0    0.0  26.15  0.0000   0.0\n",
      "6  0.0   0.0   0.0   0.0    0.0   0.00  1.1255   0.0\n",
      "7  0.0   0.0   0.0   0.0    0.0   0.00  0.0000  30.0\n",
      "        \n",
      "            \n",
      "Distribution 1:\n",
      "--------------------\n",
      "\n",
      "Mean: \n",
      "            0\n",
      "0    9.595815\n",
      "1   43.725407\n",
      "2   31.307079\n",
      "3   26.923127\n",
      "4  296.805397\n",
      "5   26.823383\n",
      "6    0.397732\n",
      "7   51.159963\n",
      "Variance: \n",
      "     0     1     2     3      4      5       6     7\n",
      "0  6.5   0.0   0.0   0.0    0.0   0.00  0.0000   0.0\n",
      "1  0.0  98.5   0.0   0.0    0.0   0.00  0.0000   0.0\n",
      "2  0.0   0.0  55.0   0.0    0.0   0.00  0.0000   0.0\n",
      "3  0.0   0.0   0.0  27.0    0.0   0.00  0.0000   0.0\n",
      "4  0.0   0.0   0.0   0.0  372.0   0.00  0.0000   0.0\n",
      "5  0.0   0.0   0.0   0.0    0.0  26.15  0.0000   0.0\n",
      "6  0.0   0.0   0.0   0.0    0.0   0.00  1.1255   0.0\n",
      "7  0.0   0.0   0.0   0.0    0.0   0.00  0.0000  30.0\n",
      "        \n",
      "            \n"
     ]
    },
    {
     "ename": "AssertionError",
     "evalue": "Covariance matrix is not positive definite : [[  3.76880514e+000   1.50753499e+001   2.22507386e-308   4.25009063e+000\n    4.23438090e+001   2.22507386e-308   7.05353654e-001   9.54215042e+000]\n [  1.50753499e+001   3.79449832e+002   9.14437588e+000   2.22507386e-308\n    1.89390277e+003   2.22507386e-308   1.22034618e+001   5.05951067e+001]\n [  2.22507386e-308   9.14437588e+000   1.03283360e+002   2.22507386e-308\n    1.82838670e+002   3.22768563e+001   2.22507386e-308   8.17686330e+000]\n [  4.25009063e+000   2.22507386e-308   2.22507386e-308   1.41971253e+001\n    2.22507386e-308   2.22507386e-308   2.22507386e-308   7.49451656e+000]\n [  4.23438090e+001   1.89390277e+003   1.82838670e+002   2.22507386e-308\n    1.14133231e+004   1.09536544e+002   5.07102303e+001   2.02661456e+002]\n [  2.22507386e-308   2.22507386e-308   3.22768563e+001   2.22507386e-308\n    1.09536544e+002   2.97745097e+001   2.22507386e-308   2.22507386e-308]\n [  7.05353654e-001   1.22034618e+001   2.22507386e-308   2.22507386e-308\n    5.07102303e+001   2.22507386e-308   5.05421702e-001   1.75075780e+000]\n [  9.54215042e+000   5.05951067e+001   8.17686330e+000   7.49451656e+000\n    2.02661456e+002   2.22507386e-308   1.75075780e+000   2.63036417e+001]], [[   2.19996661  161.79917798   77.59937346   39.79916806  586.77471436\n    41.79958615    0.9194644    26.4006256 ]], [[   1.     100.      72.      12.      70.      25.3      0.658   28.   ]]",
     "output_type": "error",
     "traceback": [
      "\u001b[0;31m---------------------------------------------------------------------------\u001b[0m",
      "\u001b[0;31mAssertionError\u001b[0m                            Traceback (most recent call last)",
      "\u001b[0;32m<ipython-input-109-8169d7100bc3>\u001b[0m in \u001b[0;36m<module>\u001b[0;34m()\u001b[0m\n\u001b[1;32m     14\u001b[0m \u001b[0;32mfor\u001b[0m \u001b[0mlabel\u001b[0m\u001b[0;34m,\u001b[0m \u001b[0mestimator\u001b[0m \u001b[0;32min\u001b[0m \u001b[0mmodel\u001b[0m\u001b[0;34m.\u001b[0m\u001b[0mitems\u001b[0m\u001b[0;34m(\u001b[0m\u001b[0;34m)\u001b[0m\u001b[0;34m:\u001b[0m\u001b[0;34m\u001b[0m\u001b[0m\n\u001b[1;32m     15\u001b[0m     \u001b[0;32mprint\u001b[0m \u001b[0;34m\"========== {0} =========\"\u001b[0m\u001b[0;34m.\u001b[0m\u001b[0mformat\u001b[0m\u001b[0;34m(\u001b[0m\u001b[0mlabel\u001b[0m\u001b[0;34m)\u001b[0m\u001b[0;34m\u001b[0m\u001b[0m\n\u001b[0;32m---> 16\u001b[0;31m     \u001b[0mmm\u001b[0m \u001b[0;34m=\u001b[0m \u001b[0mestimator\u001b[0m\u001b[0;34m.\u001b[0m\u001b[0mdistribution\u001b[0m\u001b[0;34m(\u001b[0m\u001b[0;36m2\u001b[0m\u001b[0;34m,\u001b[0m \u001b[0mmaxIter\u001b[0m \u001b[0;34m=\u001b[0m \u001b[0;36m150\u001b[0m\u001b[0;34m,\u001b[0m \u001b[0mepsilon\u001b[0m\u001b[0;34m=\u001b[0m\u001b[0;36m0.001\u001b[0m\u001b[0;34m)\u001b[0m\u001b[0;34m\u001b[0m\u001b[0m\n\u001b[0m\u001b[1;32m     17\u001b[0m     \u001b[0;32mfor\u001b[0m \u001b[0mdistribution\u001b[0m \u001b[0;32min\u001b[0m \u001b[0mmm\u001b[0m\u001b[0;34m.\u001b[0m\u001b[0mdistributions\u001b[0m\u001b[0;34m:\u001b[0m\u001b[0;34m\u001b[0m\u001b[0m\n\u001b[1;32m     18\u001b[0m         \u001b[0;32mprint\u001b[0m \u001b[0mdistribution\u001b[0m\u001b[0;34m\u001b[0m\u001b[0m\n",
      "\u001b[0;32m<ipython-input-40-b17383ee4e97>\u001b[0m in \u001b[0;36mdistribution\u001b[0;34m(self, numOfModels, maxIter, epsilon)\u001b[0m\n\u001b[1;32m    173\u001b[0m             \u001b[0mlog_estimates\u001b[0m\u001b[0;34m.\u001b[0m\u001b[0mappend\u001b[0m\u001b[0;34m(\u001b[0m\u001b[0;36m0.0\u001b[0m\u001b[0;34m)\u001b[0m\u001b[0;34m\u001b[0m\u001b[0m\n\u001b[1;32m    174\u001b[0m             \u001b[0;32mfor\u001b[0m \u001b[0mx\u001b[0m \u001b[0;32min\u001b[0m \u001b[0mself\u001b[0m\u001b[0;34m.\u001b[0m\u001b[0m_data\u001b[0m\u001b[0;34m:\u001b[0m\u001b[0;34m\u001b[0m\u001b[0m\n\u001b[0;32m--> 175\u001b[0;31m                 \u001b[0mlog_estimates\u001b[0m\u001b[0;34m[\u001b[0m\u001b[0;34m-\u001b[0m\u001b[0;36m1\u001b[0m\u001b[0;34m]\u001b[0m \u001b[0;34m+=\u001b[0m \u001b[0mmixtureModel\u001b[0m\u001b[0;34m.\u001b[0m\u001b[0mpdf\u001b[0m\u001b[0;34m(\u001b[0m\u001b[0mx\u001b[0m\u001b[0;34m)\u001b[0m\u001b[0;34m\u001b[0m\u001b[0m\n\u001b[0m\u001b[1;32m    176\u001b[0m \u001b[0;34m\u001b[0m\u001b[0m\n\u001b[1;32m    177\u001b[0m             \u001b[0;31m# Step 5: Sanity Check\u001b[0m\u001b[0;34m\u001b[0m\u001b[0;34m\u001b[0m\u001b[0m\n",
      "\u001b[0;32m<ipython-input-39-44ad02138012>\u001b[0m in \u001b[0;36mpdf\u001b[0;34m(self, point)\u001b[0m\n\u001b[1;32m     75\u001b[0m \u001b[0;34m\u001b[0m\u001b[0m\n\u001b[1;32m     76\u001b[0m     \u001b[0;32mdef\u001b[0m \u001b[0mpdf\u001b[0m\u001b[0;34m(\u001b[0m\u001b[0mself\u001b[0m\u001b[0;34m,\u001b[0m \u001b[0mpoint\u001b[0m\u001b[0;34m)\u001b[0m\u001b[0;34m:\u001b[0m\u001b[0;34m\u001b[0m\u001b[0m\n\u001b[0;32m---> 77\u001b[0;31m         \u001b[0;32mreturn\u001b[0m \u001b[0msum\u001b[0m\u001b[0;34m(\u001b[0m\u001b[0mself\u001b[0m\u001b[0;34m.\u001b[0m\u001b[0mpdfComponents\u001b[0m\u001b[0;34m(\u001b[0m\u001b[0mpoint\u001b[0m\u001b[0;34m)\u001b[0m\u001b[0;34m)\u001b[0m\u001b[0;34m\u001b[0m\u001b[0m\n\u001b[0m\u001b[1;32m     78\u001b[0m \u001b[0;34m\u001b[0m\u001b[0m\n\u001b[1;32m     79\u001b[0m     \u001b[0;32mdef\u001b[0m \u001b[0mpdfComponents\u001b[0m\u001b[0;34m(\u001b[0m\u001b[0mself\u001b[0m\u001b[0;34m,\u001b[0m \u001b[0mpoint\u001b[0m\u001b[0;34m)\u001b[0m\u001b[0;34m:\u001b[0m\u001b[0;34m\u001b[0m\u001b[0m\n",
      "\u001b[0;32m<ipython-input-39-44ad02138012>\u001b[0m in \u001b[0;36mpdfComponents\u001b[0;34m(self, point)\u001b[0m\n\u001b[1;32m     80\u001b[0m         \u001b[0mcomponents\u001b[0m \u001b[0;34m=\u001b[0m \u001b[0;34m[\u001b[0m\u001b[0;34m]\u001b[0m\u001b[0;34m\u001b[0m\u001b[0m\n\u001b[1;32m     81\u001b[0m         \u001b[0;32mfor\u001b[0m \u001b[0mdistribution\u001b[0m\u001b[0;34m,\u001b[0m \u001b[0mmixin\u001b[0m \u001b[0;32min\u001b[0m \u001b[0mzip\u001b[0m\u001b[0;34m(\u001b[0m\u001b[0mself\u001b[0m\u001b[0;34m.\u001b[0m\u001b[0m_distributions\u001b[0m\u001b[0;34m,\u001b[0m \u001b[0mself\u001b[0m\u001b[0;34m.\u001b[0m\u001b[0m_mixin\u001b[0m\u001b[0;34m)\u001b[0m\u001b[0;34m:\u001b[0m\u001b[0;34m\u001b[0m\u001b[0m\n\u001b[0;32m---> 82\u001b[0;31m             \u001b[0mcomponents\u001b[0m\u001b[0;34m.\u001b[0m\u001b[0mappend\u001b[0m\u001b[0;34m(\u001b[0m\u001b[0mdistribution\u001b[0m\u001b[0;34m.\u001b[0m\u001b[0mpdf\u001b[0m\u001b[0;34m(\u001b[0m\u001b[0mpoint\u001b[0m\u001b[0;34m)\u001b[0m \u001b[0;34m*\u001b[0m \u001b[0mmixin\u001b[0m\u001b[0;34m)\u001b[0m\u001b[0;34m\u001b[0m\u001b[0m\n\u001b[0m\u001b[1;32m     83\u001b[0m         \u001b[0;32mreturn\u001b[0m \u001b[0mcomponents\u001b[0m\u001b[0;34m\u001b[0m\u001b[0m\n\u001b[1;32m     84\u001b[0m \u001b[0;34m\u001b[0m\u001b[0m\n",
      "\u001b[0;32m<ipython-input-39-44ad02138012>\u001b[0m in \u001b[0;36mpdf\u001b[0;34m(self, value)\u001b[0m\n\u001b[1;32m     49\u001b[0m \u001b[0;34m\u001b[0m\u001b[0m\n\u001b[1;32m     50\u001b[0m         \u001b[0mdet\u001b[0m \u001b[0;34m=\u001b[0m \u001b[0mnp\u001b[0m\u001b[0;34m.\u001b[0m\u001b[0mlinalg\u001b[0m\u001b[0;34m.\u001b[0m\u001b[0mdet\u001b[0m\u001b[0;34m(\u001b[0m\u001b[0mvar\u001b[0m\u001b[0;34m)\u001b[0m\u001b[0;34m\u001b[0m\u001b[0m\n\u001b[0;32m---> 51\u001b[0;31m         \u001b[0;32massert\u001b[0m \u001b[0mdet\u001b[0m \u001b[0;34m>\u001b[0m \u001b[0;36m0\u001b[0m\u001b[0;34m,\u001b[0m \u001b[0;34m\"Covariance matrix is not positive definite : {0}, {1}, {2}\"\u001b[0m\u001b[0;34m.\u001b[0m\u001b[0mformat\u001b[0m\u001b[0;34m(\u001b[0m\u001b[0mvar\u001b[0m\u001b[0;34m,\u001b[0m \u001b[0mself\u001b[0m\u001b[0;34m.\u001b[0m\u001b[0mmean\u001b[0m\u001b[0;34m,\u001b[0m \u001b[0mvalue\u001b[0m\u001b[0;34m)\u001b[0m\u001b[0;34m\u001b[0m\u001b[0m\n\u001b[0m\u001b[1;32m     52\u001b[0m \u001b[0;34m\u001b[0m\u001b[0m\n\u001b[1;32m     53\u001b[0m         \u001b[0mxm\u001b[0m \u001b[0;34m=\u001b[0m \u001b[0mvalue\u001b[0m \u001b[0;34m-\u001b[0m \u001b[0mself\u001b[0m\u001b[0;34m.\u001b[0m\u001b[0mmean\u001b[0m \u001b[0;31m# 1 X F\u001b[0m\u001b[0;34m\u001b[0m\u001b[0m\n",
      "\u001b[0;31mAssertionError\u001b[0m: Covariance matrix is not positive definite : [[  3.76880514e+000   1.50753499e+001   2.22507386e-308   4.25009063e+000\n    4.23438090e+001   2.22507386e-308   7.05353654e-001   9.54215042e+000]\n [  1.50753499e+001   3.79449832e+002   9.14437588e+000   2.22507386e-308\n    1.89390277e+003   2.22507386e-308   1.22034618e+001   5.05951067e+001]\n [  2.22507386e-308   9.14437588e+000   1.03283360e+002   2.22507386e-308\n    1.82838670e+002   3.22768563e+001   2.22507386e-308   8.17686330e+000]\n [  4.25009063e+000   2.22507386e-308   2.22507386e-308   1.41971253e+001\n    2.22507386e-308   2.22507386e-308   2.22507386e-308   7.49451656e+000]\n [  4.23438090e+001   1.89390277e+003   1.82838670e+002   2.22507386e-308\n    1.14133231e+004   1.09536544e+002   5.07102303e+001   2.02661456e+002]\n [  2.22507386e-308   2.22507386e-308   3.22768563e+001   2.22507386e-308\n    1.09536544e+002   2.97745097e+001   2.22507386e-308   2.22507386e-308]\n [  7.05353654e-001   1.22034618e+001   2.22507386e-308   2.22507386e-308\n    5.07102303e+001   2.22507386e-308   5.05421702e-001   1.75075780e+000]\n [  9.54215042e+000   5.05951067e+001   8.17686330e+000   7.49451656e+000\n    2.02661456e+002   2.22507386e-308   1.75075780e+000   2.63036417e+001]], [[   2.19996661  161.79917798   77.59937346   39.79916806  586.77471436\n    41.79958615    0.9194644    26.4006256 ]], [[   1.     100.      72.      12.      70.      25.3      0.658   28.   ]]"
     ]
    }
   ],
   "source": [
    "# Train Model\n",
    "model = defaultdict(GaussianMixtureModelEstimator)\n",
    "priors = defaultdict(float)\n",
    "numRows = len(trainData)\n",
    "trainMatrix = np.matrix(trainData)\n",
    "for idx in xrange(numRows):\n",
    "    label = trainLabels[idx]\n",
    "    model[label].add(trainMatrix[idx,:], 1.0)\n",
    "    priors[label] += 1.0\n",
    "    \n",
    "priors = dict([(label, value/numRows) for label, value in priors.items()])\n",
    "print \"Priors: \", priors\n",
    "    \n",
    "for label, estimator in model.items():\n",
    "    print \"========== {0} =========\".format(label)\n",
    "    mm = estimator.distribution(2, maxIter = 150, epsilon=0.001)\n",
    "    for distribution in mm.distributions:\n",
    "        print distribution\n"
   ]
  },
  {
   "cell_type": "markdown",
   "metadata": {},
   "source": [
    "# Step 1: Randomly initialize mixing coefficients, mean and variance"
   ]
  },
  {
   "cell_type": "code",
   "execution_count": 26,
   "metadata": {
    "collapsed": false
   },
   "outputs": [
    {
     "name": "stdout",
     "output_type": "stream",
     "text": [
      "==== KNOWN DISTRIBUTIONS ===\n",
      "Mean: [60, 140] & [70, 170]\n"
     ]
    }
   ],
   "source": [
    "    "
   ]
  },
  {
   "cell_type": "markdown",
   "metadata": {},
   "source": [
    "# References:\n",
    "\n",
    "* Computing Variance in a streaming fashion: http://www.johndcook.com/blog/standard_deviation/\n"
   ]
  },
  {
   "cell_type": "code",
   "execution_count": 37,
   "metadata": {
    "collapsed": false
   },
   "outputs": [
    {
     "data": {
      "text/plain": [
       "[1, 2, 3]"
      ]
     },
     "execution_count": 37,
     "metadata": {},
     "output_type": "execute_result"
    }
   ],
   "source": [
    "[1] + [2,3]"
   ]
  },
  {
   "cell_type": "code",
   "execution_count": 75,
   "metadata": {
    "collapsed": false
   },
   "outputs": [
    {
     "name": "stdout",
     "output_type": "stream",
     "text": [
      "Actual  Predicted\n",
      "0       0            1\n",
      "        1            1\n",
      "1       0            1\n",
      "        1            3\n",
      "dtype: int64\n",
      "3\n",
      "6\n"
     ]
    }
   ],
   "source": [
    "x = [\n",
    "    [0, 0],\n",
    "    [0, 1],\n",
    "    [1, 0],\n",
    "    [1, 1],\n",
    "    [1, 1],\n",
    "    [1, 1]\n",
    "]\n",
    "y = pd.DataFrame(x, columns=[\"Actual\", \"Predicted\"])\n",
    "z = y.groupby([\"Actual\",\"Predicted\"]).size()\n",
    "print z\n",
    "print z[1,1]\n",
    "print z.sum()"
   ]
  },
  {
   "cell_type": "code",
   "execution_count": 64,
   "metadata": {
    "collapsed": false
   },
   "outputs": [
    {
     "name": "stdout",
     "output_type": "stream",
     "text": [
      "Empty DataFrame\n",
      "Columns: []\n",
      "Index: [(0, 0), (0, 1), (1, 0), (1, 1)]\n"
     ]
    }
   ],
   "source": [
    "print z"
   ]
  },
  {
   "cell_type": "code",
   "execution_count": null,
   "metadata": {
    "collapsed": true
   },
   "outputs": [],
   "source": []
  }
 ],
 "metadata": {
  "celltoolbar": "Raw Cell Format",
  "kernelspec": {
   "display_name": "Python 2",
   "language": "python",
   "name": "python2"
  },
  "language_info": {
   "codemirror_mode": {
    "name": "ipython",
    "version": 2
   },
   "file_extension": ".py",
   "mimetype": "text/x-python",
   "name": "python",
   "nbconvert_exporter": "python",
   "pygments_lexer": "ipython2",
   "version": "2.7.11"
  }
 },
 "nbformat": 4,
 "nbformat_minor": 0
}
