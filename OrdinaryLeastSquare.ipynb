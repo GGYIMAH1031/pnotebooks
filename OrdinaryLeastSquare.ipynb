{
 "cells": [
  {
   "cell_type": "markdown",
   "metadata": {},
   "source": [
    "# Ordinary Least Square Implementation\n",
    "\n",
    "This notebook implements ordinary least square algorithm. It uses batch gradient descent algorithm to fit the model. The notebook is split into following four sections:\n",
    "\n",
    "1. Implements support classes requried for batch gradient descent algorithm. \n",
    "2. Implements ordinary least square method. \n",
    "3. Generates 1000 randomly sampled data with 5 features. The dataset is split into training (80%) and testing (20%). Finally a model if fitted using above implementation\n",
    "4. Trains a linear regression model on the above dataset using OLS implementation over here and using sklearn "
   ]
  },
  {
   "cell_type": "markdown",
   "metadata": {},
   "source": [
    "## Section 1: Matrix Classes"
   ]
  },
  {
   "cell_type": "code",
   "execution_count": 1,
   "metadata": {
    "collapsed": false
   },
   "outputs": [
    {
     "name": "stderr",
     "output_type": "stream",
     "text": [
      ".....\n",
      "----------------------------------------------------------------------\n",
      "Ran 5 tests in 0.003s\n",
      "\n",
      "OK\n"
     ]
    },
    {
     "data": {
      "text/plain": [
       "<unittest.runner.TextTestResult run=5 errors=0 failures=0>"
      ]
     },
     "execution_count": 1,
     "metadata": {},
     "output_type": "execute_result"
    }
   ],
   "source": [
    "import numpy as np\n",
    "import unittest\n",
    "\n",
    "class Matrix(object):\n",
    "    \"\"\"\n",
    "    Provides an interface to work with matrices    \n",
    "    \"\"\"\n",
    "    \n",
    "    def __init__(self, data):\n",
    "        \"\"\"\n",
    "        constructor\n",
    "        \n",
    "        Keyword arguments:\n",
    "        data -- a list object\n",
    "        \n",
    "        \"\"\"\n",
    "        self.__data = data\n",
    "        self.__shape = None\n",
    "        \n",
    "    @property\n",
    "    def data(self):\n",
    "        \"\"\"\n",
    "        returns original datasets\n",
    "        \"\"\"\n",
    "        return self.__data\n",
    "        \n",
    "    @property\n",
    "    def shape(self):\n",
    "        \"\"\"returns dimension of the matrix\"\"\"\n",
    "        if self.__shape == None:            \n",
    "            dim = []\n",
    "            counter = 0\n",
    "            tmp = self.__data\n",
    "            while(True):\n",
    "                if isinstance(tmp, list):\n",
    "                    dim.append(len(tmp))\n",
    "                    tmp = tmp[0]\n",
    "                else:\n",
    "                    break\n",
    "\n",
    "            self.__shape = (dim[0], ) if(len(dim) == 1) else tuple(dim)\n",
    "            \n",
    "        return self.__shape\n",
    "    \n",
    "\n",
    "    @property\n",
    "    def transpose(self):\n",
    "        \"returns transpose of a matrix\"\n",
    "        raise NotImplemented\n",
    "        \n",
    "    def multiply(self, y):\n",
    "        \"multiplies this with the input array and returns a new matrix\"\n",
    "        raise NotImplemented\n",
    "        \n",
    "    def subtract(self, y):\n",
    "        \"subtract input matrix from existing matrix and returns a new matrix\"\n",
    "        raise NotImplemented\n",
    "        \n",
    "    def scalarMultiply(self, value):\n",
    "        \"multiply each value of matrix with the input scalar value. Returns a new matrix object\"\n",
    "        raise NotImplemented\n",
    "    \n",
    "        \n",
    "    def __eq__(self, other):\n",
    "        \"compares two matrix. Currently it relies on underlying equality method of the input data object\"\n",
    "        return self.data == other.data\n",
    "    \n",
    "    def __ne__(self, other):\n",
    "        return not self.__eq__(other)    \n",
    "        \n",
    "        \n",
    "        \n",
    "class Matrix2D(Matrix):\n",
    "    \"\"\"\n",
    "    \"\"\"\n",
    "    def __init__(self, data):\n",
    "        super(Matrix2D, self).__init__(data)\n",
    "        if len(self.shape) > 2: \n",
    "            raise ValueError(\"\"\"\n",
    "            This class is designed to handle only 2D arrays.\n",
    "            Input data has following shape {0}\n",
    "            \"\"\".format(self.shape))\n",
    "            \n",
    "\n",
    "    \n",
    "    def multiply(self, y):\n",
    "        \"\"\"\n",
    "        Multiple two matrix \n",
    "        \"\"\"\n",
    "        sx = self.shape\n",
    "        sy = y.shape \n",
    "        \n",
    "        if isinstance(y, Matrix2D) == False:\n",
    "            raise ValueError(\"Expect input argument to be of type Matrix2D\")\n",
    "        \n",
    "        if (sx[1] != sy[0]):\n",
    "            raise ValueError(\"Matrix of shape {0} and {1} cannot be multiplied\".format(self.shape, y.shape))\n",
    "\n",
    "        output = []\n",
    "        for i in range(sx[0]):\n",
    "            output.append([0.0] * sy[1])\n",
    "            for k in range(sx[1]):\n",
    "                for j in range(sy[1]):\n",
    "                    output[i][j] += self.data[i][k] * y.data[k][j]\n",
    "        return Matrix2D(output)\n",
    "\n",
    "    def subtract(self, y):\n",
    "        \"\"\"\n",
    "        Subtract y from x\n",
    "        \"\"\"\n",
    "        output = []\n",
    "        if (self.shape != y.shape):\n",
    "            raise ValueError(\"Matrix of shape {0} and {1} cannot be subtracted\".format(self.shape, y.shape))\n",
    "\n",
    "        output = []\n",
    "        rows = self.shape[0]\n",
    "        cols = 1 if self.shape[1] == None else self.shape[1]\n",
    "        \n",
    "        for row in range(rows):\n",
    "            output.append([])\n",
    "            for col in range(cols):\n",
    "                output[row].append(self.data[row][col] - y.data[row][col])\n",
    "                \n",
    "        return Matrix2D(output)\n",
    "\n",
    "    @property\n",
    "    def transpose(self):\n",
    "        \"\"\"\n",
    "        Matrix tranpose\n",
    "        \"\"\"\n",
    "        (rows, cols) = self.shape\n",
    "        return Matrix2D([[self.data[row][col] for row in range(rows)] for col in range(cols)])\n",
    "\n",
    "    def scalarMultiply(self, value):\n",
    "        \"\"\"\n",
    "        Scala multiplication\n",
    "        \"\"\"\n",
    "        (rows, cols) = self.shape\n",
    "        return Matrix2D([[self.data[row][col] * value for col in range(cols)] for row in range(rows)])\n",
    "\n",
    "\n",
    "class TestMatrixOperation (unittest.TestCase):\n",
    "    \"\"\"\n",
    "    Unit test for matrix computation\n",
    "    \"\"\"\n",
    "    \n",
    "    def test_shape(self):\n",
    "        self.assertEqual(Matrix2D([1]).shape, (1,))\n",
    "        self.assertEqual(Matrix2D([[1],[2]]).shape, (2,1))\n",
    "        self.assertEqual(Matrix2D([[1,2],[2,2]]).shape, (2,2))        \n",
    "        \n",
    "    def test_dot(self):\n",
    "        x = Matrix2D([[1,2,3],[4,5,6]])\n",
    "        y = Matrix2D([[10],[10],[10]])\n",
    "        self.assertEqual(x.multiply(y), Matrix2D([[60.0], [150.0]]))\n",
    "        \n",
    "    def test_subtract(self):\n",
    "        x = Matrix2D([[1],[2],[3]])\n",
    "        y = Matrix2D([[1],[2],[3]])\n",
    "        self.assertEqual(x.subtract(y), Matrix2D([[0],[0],[0]]))\n",
    "        \n",
    "    def test_transpose(self):\n",
    "        x = Matrix2D([[1,2,3]])\n",
    "        self.assertEqual(x.transpose, Matrix2D([[1],[2],[3]]))\n",
    "        \n",
    "    def test_scalaproduct(self):\n",
    "        x = Matrix2D([[1,2,3], [4,5,4]])\n",
    "        self.assertEqual(x.scalarMultiply(10), Matrix2D([[10,20,30], [40,50,40]]))\n",
    "        \n",
    "        \n",
    "    \n",
    "suite = unittest.TestLoader().loadTestsFromTestCase( TestMatrixOperation )\n",
    "unittest.TextTestRunner(verbosity=1,stream=sys.stderr).run( suite )    \n",
    "\n",
    "\n",
    "    "
   ]
  },
  {
   "cell_type": "markdown",
   "metadata": {},
   "source": [
    "## Section 2: Ordinary Least Square Implmentation\n"
   ]
  },
  {
   "cell_type": "code",
   "execution_count": 2,
   "metadata": {
    "collapsed": false
   },
   "outputs": [],
   "source": [
    "class OrdinaryLeastSquare(object):\n",
    "\n",
    "    def __init__(self):\n",
    "        \"Constructor\"\n",
    "        self.__reset()\n",
    "        \n",
    "    @property\n",
    "    def intercept(self):\n",
    "        \"Returns intercept\"\n",
    "        return self.__theta.data[0][0]\n",
    "\n",
    "    @property\n",
    "    def coefficients(self):\n",
    "        \"Returns coefficients without intercept\"\n",
    "        return [self.__theta.data[i][0] for i in range(1,len(self.__theta.data))]    \n",
    "    \n",
    "    @property\n",
    "    def loss(self):\n",
    "        \"Returns total loss computed at each iteration\"\n",
    "        return self.__loss\n",
    "        \n",
    "    \n",
    "    def fit(self, features, target, alpha = 0.01, numIterations = 1000):\n",
    "        \"\"\"\n",
    "        Uses batch gradient descent algorith to compute regression model. \n",
    "        Currently it implements no penalties on coefficients. \n",
    "        \"\"\"\n",
    "        \n",
    "        # Sanity Check\n",
    "        if target == None or len(target) == 0:\n",
    "            raise ValueError(\"Expecting target to be 1d array\")\n",
    "\n",
    "        if features == None or len(features) != len(target):\n",
    "            raise ValueError(\"Expecting arrays to be of same size\")\n",
    "\n",
    "\n",
    "        # Create copy of input data\n",
    "        numFeatures = len(features[0])\n",
    "        numSamples = len(features)\n",
    "        newTarget = self.__targetMatrix(target)\n",
    "        newFeatures = self.__addOneToFeatures(features)\n",
    "        \n",
    "        # Using batch gradient descent algorithm      \n",
    "        theta = Matrix2D([[1.0] for i in range(numFeatures + 1)])\n",
    "        self.__reset()\n",
    "        \n",
    "        for iter in range(numIterations):\n",
    "            hypothesis = newFeatures.multiply(theta)\n",
    "            loss = hypothesis.subtract(newTarget)\n",
    "            gradient = newFeatures.transpose.multiply(loss) \n",
    "            theta = theta.subtract(gradient.scalarMultiply(alpha/numSamples))\n",
    "            self.__loss.append([iter, sum([loss.data[i][0]**2 for i in range(numSamples)])])\n",
    "\n",
    "        \n",
    "        self.__theta = theta\n",
    "        return\n",
    "\n",
    "\n",
    "    def predict(self, features):\n",
    "        \"Use trained model to predict target\"\n",
    "        newFeatures = self.__addOneToFeatures(features)\n",
    "        predictions = newFeatures.multiply(self.__theta).data\n",
    "        return [predictions[i][0] for i in range(len(predictions))]\n",
    "    \n",
    "    def __targetMatrix(self, target):\n",
    "        \"Returns a new target matrix as Matrix2D object\"\n",
    "        return Matrix2D([[target[i]] for i in range(len(target))])\n",
    "    \n",
    "    def __addOneToFeatures(self, features):\n",
    "        \"Returns a new feature matrix with additional column at the beginning where each value is 1.0\"\n",
    "        numFeatures = len(features[0])\n",
    "        numSamples = len(features)\n",
    "        newFeatures = []\n",
    "        for row in range(numSamples):\n",
    "            newFeatures.append([1.0])\n",
    "            for col in range(numFeatures):\n",
    "                newFeatures[row].append(features[row][col])\n",
    "        return Matrix2D(newFeatures)\n",
    "\n",
    "    def __reset(self):\n",
    "        \"Reset all parameters\"\n",
    "        self.__theta = None\n",
    "        self.__loss = []\n"
   ]
  },
  {
   "cell_type": "markdown",
   "metadata": {},
   "source": [
    "## Section 3: Generate Sample Data"
   ]
  },
  {
   "cell_type": "code",
   "execution_count": 3,
   "metadata": {
    "collapsed": false
   },
   "outputs": [],
   "source": [
    "from sklearn.datasets.samples_generator import make_regression \n",
    "from scipy import stats\n",
    "\n",
    "# Generate 1000 traning samples with 5 features\n",
    "features, target = make_regression(n_samples=1000, n_features=5, n_informative=1, random_state=0, noise=35)\n",
    "# split data into training and test dataset\n",
    "training = (features[0:800,], target[0:800,])\n",
    "test = (features[800:], target[800:])\n"
   ]
  },
  {
   "cell_type": "markdown",
   "metadata": {},
   "source": [
    "## Section 4: Train Model"
   ]
  },
  {
   "cell_type": "code",
   "execution_count": 4,
   "metadata": {
    "collapsed": false
   },
   "outputs": [
    {
     "name": "stdout",
     "output_type": "stream",
     "text": [
      "Intercept = -0.524117440547\n",
      "Slope = [-1.64399528386033, 12.246345714998109, -0.32411830574955397, 0.349679405197548, 0.6301585123159154]\n"
     ]
    }
   ],
   "source": [
    "# Train using current implementation of OLS\n",
    "ols = OrdinaryLeastSquare()\n",
    "ols.fit(training[0].tolist(), training[1].tolist(), alpha = 0.03, numIterations=150)\n",
    "print \"Intercept = {0}\".format(ols.intercept)\n",
    "print \"Slope = {0}\".format(ols.coefficients)"
   ]
  },
  {
   "cell_type": "code",
   "execution_count": 5,
   "metadata": {
    "collapsed": false
   },
   "outputs": [
    {
     "name": "stderr",
     "output_type": "stream",
     "text": [
      "/usr/local/lib/python2.7/site-packages/matplotlib/__init__.py:872: UserWarning: axes.color_cycle is deprecated and replaced with axes.prop_cycle; please use the latter.\n",
      "  warnings.warn(self.msg_depr % (key, alt_key))\n"
     ]
    },
    {
     "data": {
      "image/png": "[encoded data removed]",
      "text/plain": [
       "<matplotlib.figure.Figure at 0x10aac9790>"
      ]
     },
     "metadata": {},
     "output_type": "display_data"
    },
    {
     "data": {
      "text/plain": [
       "<ggplot: (285458077)>"
      ]
     },
     "execution_count": 5,
     "metadata": {},
     "output_type": "execute_result"
    }
   ],
   "source": [
    "# Plot total squared loss at each iteration\n",
    "%matplotlib inline\n",
    "import pandas as pd\n",
    "from ggplot import *\n",
    "df = pd.DataFrame(ols.loss, columns=[\"iter\",\"loss\"])\n",
    "ggplot(aes(x=\"iter\",y=\"loss\"), data=df) + geom_line() + xlab(\"Iteration Number\") + ylab(\"Squared Total Loss\") "
   ]
  },
  {
   "cell_type": "code",
   "execution_count": 141,
   "metadata": {
    "collapsed": false
   },
   "outputs": [
    {
     "name": "stdout",
     "output_type": "stream",
     "text": [
      "('Intercept: ', -0.50605858362401024)\n",
      "('Slope: ', array([ -1.66156661,  12.3856612 ,  -0.35246313,   0.32323504,   0.61791707]))\n"
     ]
    }
   ],
   "source": [
    "# Train using sklearn\n",
    "regr = linear_model.LinearRegression()\n",
    "regr.fit(training[0], training[1])\n",
    "print('Intercept: ', regr.intercept_)\n",
    "print('Slope: ', regr.coef_)"
   ]
  },
  {
   "cell_type": "code",
   "execution_count": 146,
   "metadata": {
    "collapsed": false
   },
   "outputs": [
    {
     "data": {
      "text/html": [
       "<div>\n",
       "<table border=\"1\" class=\"dataframe\">\n",
       "  <thead>\n",
       "    <tr style=\"text-align: right;\">\n",
       "      <th></th>\n",
       "      <th>Coefficient</th>\n",
       "      <th>OLS</th>\n",
       "      <th>sklearn</th>\n",
       "    </tr>\n",
       "  </thead>\n",
       "  <tbody>\n",
       "    <tr>\n",
       "      <th>0</th>\n",
       "      <td>Intercept</td>\n",
       "      <td>-0.524117</td>\n",
       "      <td>-0.506059</td>\n",
       "    </tr>\n",
       "    <tr>\n",
       "      <th>1</th>\n",
       "      <td>Coefficient 1</td>\n",
       "      <td>-1.643995</td>\n",
       "      <td>-1.661567</td>\n",
       "    </tr>\n",
       "    <tr>\n",
       "      <th>2</th>\n",
       "      <td>Coefficient 2</td>\n",
       "      <td>12.246346</td>\n",
       "      <td>12.385661</td>\n",
       "    </tr>\n",
       "    <tr>\n",
       "      <th>3</th>\n",
       "      <td>Coefficient 3</td>\n",
       "      <td>-0.324118</td>\n",
       "      <td>-0.352463</td>\n",
       "    </tr>\n",
       "    <tr>\n",
       "      <th>4</th>\n",
       "      <td>Coefficient 4</td>\n",
       "      <td>0.349679</td>\n",
       "      <td>0.323235</td>\n",
       "    </tr>\n",
       "    <tr>\n",
       "      <th>5</th>\n",
       "      <td>Coefficient 5</td>\n",
       "      <td>0.630159</td>\n",
       "      <td>0.617917</td>\n",
       "    </tr>\n",
       "  </tbody>\n",
       "</table>\n",
       "</div>"
      ],
      "text/plain": [
       "     Coefficient        OLS    sklearn\n",
       "0      Intercept  -0.524117  -0.506059\n",
       "1  Coefficient 1  -1.643995  -1.661567\n",
       "2  Coefficient 2  12.246346  12.385661\n",
       "3  Coefficient 3  -0.324118  -0.352463\n",
       "4  Coefficient 4   0.349679   0.323235\n",
       "5  Coefficient 5   0.630159   0.617917"
      ]
     },
     "execution_count": 146,
     "metadata": {},
     "output_type": "execute_result"
    }
   ],
   "source": [
    "data = [[\"Intercept\", ols.intercept, regr.intercept_]]\n",
    "olsCoeff = ols.coefficients\n",
    "sklearnCoeff = regr.coef_\n",
    "for i in range(5):\n",
    "    data.append([\"Coefficient {0}\".format(i+1), olsCoeff[i], sklearnCoeff[i]])\n",
    "coeff = pd.DataFrame(data, columns=[\"Coefficient\",\"OLS\",\"sklearn\"])\n",
    "coeff\n",
    "                                    \n",
    "    "
   ]
  },
  {
   "cell_type": "code",
   "execution_count": null,
   "metadata": {
    "collapsed": true
   },
   "outputs": [],
   "source": []
  }
 ],
 "metadata": {
  "kernelspec": {
   "display_name": "Python 2",
   "language": "python",
   "name": "python2"
  },
  "language_info": {
   "codemirror_mode": {
    "name": "ipython",
    "version": 2
   },
   "file_extension": ".py",
   "mimetype": "text/x-python",
   "name": "python",
   "nbconvert_exporter": "python",
   "pygments_lexer": "ipython2",
   "version": "2.7.11"
  }
 },
 "nbformat": 4,
 "nbformat_minor": 0
}
